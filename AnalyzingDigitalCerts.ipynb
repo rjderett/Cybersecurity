{
 "cells": [
  {
   "cell_type": "markdown",
   "metadata": {},
   "source": [
    "# Processing and Analyzing Certificate Transparency Data"
   ]
  },
  {
   "cell_type": "markdown",
   "metadata": {},
   "source": [
    "## Introduction"
   ]
  },
  {
   "cell_type": "markdown",
   "metadata": {},
   "source": [
    "The purpose of this project is to process and analyze a sample of Certificate Transparency (CT) data. The sample is only a small portion of the entire dataset. Additionally, the sample is expected to be larger-than-RAM in terms of processing. This means that common methodologies using libraries such as pandas or NumPy will not suffice at scale.\n",
    "\n",
    "The first part of this project will aim to process the sample CT data and identify records that have duplicate fingerprints in the leaf certificate. \n",
    "\n",
    "The second part of this project will aim to identifty some phishing domains using the CT data. From this, we will be able to identify the top issuers for phishy domains as well as the most frequent Top Level Domains (TLD).\n",
    "\n",
    "*Note: The DataFrame.show() lines aid in documenting the development process. Commenting these lines with a hash mark will speed up run time.*"
   ]
  },
  {
   "cell_type": "markdown",
   "metadata": {},
   "source": [
    "## Summary of Analysis Results"
   ]
  },
  {
   "cell_type": "markdown",
   "metadata": {},
   "source": [
    "After analyzing the data, we determined that the top issuer of certificates for phishing domains using the embedded keywords \"google\" or \"paypal\" is letsencrypt.org.\n",
    "\n",
    "Furthermore, \".com\" is the top TLD for the phishing domains identified followed by \".ms\". The \".ms\" TLD is associated with the British overseas territory, Montserrat. Similarly, there are multiple foreign TLDs associated with phishing domains in this sample."
   ]
  },
  {
   "cell_type": "markdown",
   "metadata": {},
   "source": [
    "## Part 1: Identify Duplicates in Larger-than-RAM Dataset"
   ]
  },
  {
   "cell_type": "markdown",
   "metadata": {},
   "source": [
    "We will first read in the larger-than-RAM sample of the CT dataset. To do this, we will use the Python Application Programming Interface (API), PySpark. PySpark allows us to interact with Apache Spark, which is an analytics engine optimized for working with large sets of data via streaming and batching. \n",
    "\n",
    "Let's start by importing PySpark and SQLContext from PySpark SQL."
   ]
  },
  {
   "cell_type": "code",
   "execution_count": 1,
   "metadata": {},
   "outputs": [],
   "source": [
    "import pyspark\n",
    "from pyspark.sql import SQLContext"
   ]
  },
  {
   "cell_type": "code",
   "execution_count": 2,
   "metadata": {},
   "outputs": [],
   "source": [
    "#Instantiate SQLContext object and pass it as 'sc'\n",
    "sc = pyspark.SparkContext()\n",
    "sqlCtx = SQLContext(sc)"
   ]
  },
  {
   "cell_type": "markdown",
   "metadata": {},
   "source": [
    "Now, we will use the SQLContext method read.json() to read the JSON dataset into a Spark DataFrame object."
   ]
  },
  {
   "cell_type": "code",
   "execution_count": 3,
   "metadata": {},
   "outputs": [],
   "source": [
    "df = sqlCtx.read.json('ctl_records_sample.jsonlines')"
   ]
  },
  {
   "cell_type": "code",
   "execution_count": 4,
   "metadata": {},
   "outputs": [
    {
     "name": "stdout",
     "output_type": "stream",
     "text": [
      "<class 'pyspark.sql.dataframe.DataFrame'>\n"
     ]
    }
   ],
   "source": [
    "#Print type to confirm that we have successfully read it in as a Spark DataFrame\n",
    "print(type(df))"
   ]
  },
  {
   "cell_type": "markdown",
   "metadata": {},
   "source": [
    "We can see that we have successfully read in the json data as a Spark DataFrame. Next, we will print the Schema that Spark inferred. This will allow us to understand the JSON object schema in depth. "
   ]
  },
  {
   "cell_type": "code",
   "execution_count": 5,
   "metadata": {
    "scrolled": true
   },
   "outputs": [
    {
     "name": "stdout",
     "output_type": "stream",
     "text": [
      "root\n",
      " |-- data: struct (nullable = true)\n",
      " |    |-- cert_index: long (nullable = true)\n",
      " |    |-- cert_link: string (nullable = true)\n",
      " |    |-- chain: array (nullable = true)\n",
      " |    |    |-- element: struct (containsNull = true)\n",
      " |    |    |    |-- as_der: string (nullable = true)\n",
      " |    |    |    |-- extensions: struct (nullable = true)\n",
      " |    |    |    |    |-- authorityInfoAccess: string (nullable = true)\n",
      " |    |    |    |    |-- authorityKeyIdentifier: string (nullable = true)\n",
      " |    |    |    |    |-- basicConstraints: string (nullable = true)\n",
      " |    |    |    |    |-- certificatePolicies: string (nullable = true)\n",
      " |    |    |    |    |-- crlDistributionPoints: string (nullable = true)\n",
      " |    |    |    |    |-- extendedKeyUsage: string (nullable = true)\n",
      " |    |    |    |    |-- extra: array (nullable = true)\n",
      " |    |    |    |    |    |-- element: string (containsNull = true)\n",
      " |    |    |    |    |-- keyUsage: string (nullable = true)\n",
      " |    |    |    |    |-- subjectAltName: string (nullable = true)\n",
      " |    |    |    |    |-- subjectKeyIdentifier: string (nullable = true)\n",
      " |    |    |    |-- fingerprint: string (nullable = true)\n",
      " |    |    |    |-- not_after: long (nullable = true)\n",
      " |    |    |    |-- not_before: long (nullable = true)\n",
      " |    |    |    |-- serial_number: string (nullable = true)\n",
      " |    |    |    |-- subject: struct (nullable = true)\n",
      " |    |    |    |    |-- C: string (nullable = true)\n",
      " |    |    |    |    |-- CN: string (nullable = true)\n",
      " |    |    |    |    |-- L: string (nullable = true)\n",
      " |    |    |    |    |-- O: string (nullable = true)\n",
      " |    |    |    |    |-- OU: string (nullable = true)\n",
      " |    |    |    |    |-- ST: string (nullable = true)\n",
      " |    |    |    |    |-- aggregated: string (nullable = true)\n",
      " |    |-- leaf_cert: struct (nullable = true)\n",
      " |    |    |-- all_domains: array (nullable = true)\n",
      " |    |    |    |-- element: string (containsNull = true)\n",
      " |    |    |-- as_der: string (nullable = true)\n",
      " |    |    |-- extensions: struct (nullable = true)\n",
      " |    |    |    |-- authorityInfoAccess: string (nullable = true)\n",
      " |    |    |    |-- authorityKeyIdentifier: string (nullable = true)\n",
      " |    |    |    |-- basicConstraints: string (nullable = true)\n",
      " |    |    |    |-- certificatePolicies: string (nullable = true)\n",
      " |    |    |    |-- crlDistributionPoints: string (nullable = true)\n",
      " |    |    |    |-- ctlPoisonByte: boolean (nullable = true)\n",
      " |    |    |    |-- ctlSignedCertificateTimestamp: string (nullable = true)\n",
      " |    |    |    |-- extendedKeyUsage: string (nullable = true)\n",
      " |    |    |    |-- extra: array (nullable = true)\n",
      " |    |    |    |    |-- element: string (containsNull = true)\n",
      " |    |    |    |-- issuerAltName: string (nullable = true)\n",
      " |    |    |    |-- keyUsage: string (nullable = true)\n",
      " |    |    |    |-- subjectAltName: string (nullable = true)\n",
      " |    |    |    |-- subjectKeyIdentifier: string (nullable = true)\n",
      " |    |    |-- fingerprint: string (nullable = true)\n",
      " |    |    |-- not_after: long (nullable = true)\n",
      " |    |    |-- not_before: long (nullable = true)\n",
      " |    |    |-- serial_number: string (nullable = true)\n",
      " |    |    |-- subject: struct (nullable = true)\n",
      " |    |    |    |-- C: string (nullable = true)\n",
      " |    |    |    |-- CN: string (nullable = true)\n",
      " |    |    |    |-- L: string (nullable = true)\n",
      " |    |    |    |-- O: string (nullable = true)\n",
      " |    |    |    |-- OU: string (nullable = true)\n",
      " |    |    |    |-- ST: string (nullable = true)\n",
      " |    |    |    |-- aggregated: string (nullable = true)\n",
      " |    |-- seen: double (nullable = true)\n",
      " |    |-- source: struct (nullable = true)\n",
      " |    |    |-- name: string (nullable = true)\n",
      " |    |    |-- url: string (nullable = true)\n",
      " |    |-- update_type: string (nullable = true)\n",
      " |-- message_type: string (nullable = true)\n",
      "\n"
     ]
    }
   ],
   "source": [
    "df.printSchema()"
   ]
  },
  {
   "cell_type": "markdown",
   "metadata": {},
   "source": [
    "Let's print five rows to see what the data looks like."
   ]
  },
  {
   "cell_type": "code",
   "execution_count": 6,
   "metadata": {},
   "outputs": [
    {
     "name": "stdout",
     "output_type": "stream",
     "text": [
      "+--------------------+------------------+\n",
      "|                data|      message_type|\n",
      "+--------------------+------------------+\n",
      "|{693605056, http:...|certificate_update|\n",
      "|{183056883, http:...|certificate_update|\n",
      "|{425694054, http:...|certificate_update|\n",
      "|{426436820, http:...|certificate_update|\n",
      "|{781260929, http:...|certificate_update|\n",
      "+--------------------+------------------+\n",
      "only showing top 5 rows\n",
      "\n"
     ]
    }
   ],
   "source": [
    "df.show(5)"
   ]
  },
  {
   "cell_type": "markdown",
   "metadata": {},
   "source": [
    "Everything under the \"data\" structure is listed in one column while the \"message_type\" string is in a separate column. This is important to note because we will have to combine these two columns into one JSON object again. Before that, let's create a new column by selecting the fingerprint information from the leaf certificate."
   ]
  },
  {
   "cell_type": "code",
   "execution_count": 7,
   "metadata": {},
   "outputs": [],
   "source": [
    "df2 = df.select('data','data.leaf_cert.fingerprint','message_type')"
   ]
  },
  {
   "cell_type": "code",
   "execution_count": 8,
   "metadata": {},
   "outputs": [
    {
     "name": "stdout",
     "output_type": "stream",
     "text": [
      "+--------------------+--------------------+------------------+\n",
      "|                data|         fingerprint|      message_type|\n",
      "+--------------------+--------------------+------------------+\n",
      "|{693605056, http:...|E3:74:8C:75:ED:6D...|certificate_update|\n",
      "+--------------------+--------------------+------------------+\n",
      "only showing top 1 row\n",
      "\n"
     ]
    }
   ],
   "source": [
    "#Display one record \n",
    "df2.show(1)"
   ]
  },
  {
   "cell_type": "markdown",
   "metadata": {},
   "source": [
    "We have generated a new \"fingerprint\" column with the fingerprint information from the leaf certificate. We will now identify the duplicate digital certificates based on their leaf certificate fingerprint. To do this, we will first import Window and Functions from pyspark.sql. PySpark Window allows us to calculate the count over a range of input rows with the same value. "
   ]
  },
  {
   "cell_type": "code",
   "execution_count": 9,
   "metadata": {},
   "outputs": [],
   "source": [
    "from pyspark.sql import Window\n",
    "from pyspark.sql import functions as F"
   ]
  },
  {
   "cell_type": "code",
   "execution_count": 10,
   "metadata": {},
   "outputs": [
    {
     "name": "stdout",
     "output_type": "stream",
     "text": [
      "+--------------------+--------------------+------------------+------+\n",
      "|                data|         fingerprint|      message_type|counts|\n",
      "+--------------------+--------------------+------------------+------+\n",
      "|{695677893, http:...|00:01:AD:C6:69:15...|certificate_update|     1|\n",
      "|{713348251, http:...|00:02:FF:63:DD:AA...|certificate_update|     1|\n",
      "|{694982703, http:...|00:07:3D:7E:FE:56...|certificate_update|     1|\n",
      "|{686067012, http:...|00:08:50:2A:49:B2...|certificate_update|     2|\n",
      "|{425760954, http:...|00:08:50:2A:49:B2...|certificate_update|     2|\n",
      "+--------------------+--------------------+------------------+------+\n",
      "only showing top 5 rows\n",
      "\n"
     ]
    }
   ],
   "source": [
    "#create a window partition by the fingerprint column\n",
    "fingerprint_partition = Window.partitionBy('fingerprint')\n",
    "#create a new column \"counts\" with the count of the fingerprint for that row across the entire dataframe\n",
    "repeatcounts = df2.select('*', F.count('*').over(fingerprint_partition).alias('counts'))\n",
    "#Display five records\n",
    "repeatcounts.show(5)\n",
    "                          "
   ]
  },
  {
   "cell_type": "markdown",
   "metadata": {},
   "source": [
    "We have successfully created a \"counts\" column showing the number of times that the fingerprint value for that row appears across the entire dataset. We only want to keep the rows with a \"counts\" value greater than one as this indicates the duplicates."
   ]
  },
  {
   "cell_type": "code",
   "execution_count": 11,
   "metadata": {},
   "outputs": [
    {
     "name": "stdout",
     "output_type": "stream",
     "text": [
      "+--------------------+--------------------+------------------+------+\n",
      "|                data|         fingerprint|      message_type|counts|\n",
      "+--------------------+--------------------+------------------+------+\n",
      "|{686067012, http:...|00:08:50:2A:49:B2...|certificate_update|     2|\n",
      "+--------------------+--------------------+------------------+------+\n",
      "only showing top 1 row\n",
      "\n"
     ]
    }
   ],
   "source": [
    "#Create new dataframe where the counts value is greater than one\n",
    "duplicates = repeatcounts.where(F.col('counts') > 1)\n",
    "#Display one record\n",
    "duplicates.show(1)"
   ]
  },
  {
   "cell_type": "code",
   "execution_count": 12,
   "metadata": {},
   "outputs": [
    {
     "name": "stdout",
     "output_type": "stream",
     "text": [
      "+--------------------+--------------------+------------------+------+\n",
      "|                data|         fingerprint|      message_type|counts|\n",
      "+--------------------+--------------------+------------------+------+\n",
      "|{686067012, http:...|00:08:50:2A:49:B2...|certificate_update|     2|\n",
      "|{425760954, http:...|00:08:50:2A:49:B2...|certificate_update|     2|\n",
      "|{695275282, http:...|00:13:75:0F:BC:58...|certificate_update|     2|\n",
      "|{427019740, http:...|00:13:75:0F:BC:58...|certificate_update|     2|\n",
      "|{694084231, http:...|00:14:11:BE:87:A6...|certificate_update|     2|\n",
      "+--------------------+--------------------+------------------+------+\n",
      "only showing top 5 rows\n",
      "\n"
     ]
    }
   ],
   "source": [
    "duplicates.show(5)"
   ]
  },
  {
   "cell_type": "markdown",
   "metadata": {},
   "source": [
    "Our new duplicates dataframe only contains rows where the fingerprint value occurs more than once in the dataframe. Let's create a new dataframe with only the \"fingerprint\", \"data\", and \"message_type\" columns."
   ]
  },
  {
   "cell_type": "code",
   "execution_count": 13,
   "metadata": {},
   "outputs": [
    {
     "name": "stdout",
     "output_type": "stream",
     "text": [
      "+--------------------+--------------------+------------------+\n",
      "|         fingerprint|                data|      message_type|\n",
      "+--------------------+--------------------+------------------+\n",
      "|00:08:50:2A:49:B2...|{686067012, http:...|certificate_update|\n",
      "|00:08:50:2A:49:B2...|{425760954, http:...|certificate_update|\n",
      "|00:13:75:0F:BC:58...|{695275282, http:...|certificate_update|\n",
      "|00:13:75:0F:BC:58...|{427019740, http:...|certificate_update|\n",
      "|00:14:11:BE:87:A6...|{694084231, http:...|certificate_update|\n",
      "+--------------------+--------------------+------------------+\n",
      "only showing top 5 rows\n",
      "\n"
     ]
    }
   ],
   "source": [
    "#Drop \"counts\" column\n",
    "duplicates2 = duplicates.select('fingerprint','data','message_type')\n",
    "#Display five records\n",
    "duplicates2.show(5)"
   ]
  },
  {
   "cell_type": "markdown",
   "metadata": {},
   "source": [
    "The final output needs to contain the fingerprint value followed by a list of the certificates. Each item of the list should be the entire JSON object. Below is an example of an output row:\n",
    "\n",
    "{\"fingerprint\":\"0C:E4:AF:24:F1:AE:B1:09:B0:42:67:CB:F8:FC:B6:AF:1C:07:D6:5B\", \"certificates\":[A, B, C]}\n",
    "\n",
    "To achieve this, we will need to group by fingerprint and aggregate the certificates. As identified earlier, we will first need to combine the data and message_type columns into one JSON object again. Let's start by importing pyspark.sql.types."
   ]
  },
  {
   "cell_type": "code",
   "execution_count": 14,
   "metadata": {},
   "outputs": [],
   "source": [
    "from pyspark.sql.types import *"
   ]
  },
  {
   "cell_type": "markdown",
   "metadata": {},
   "source": [
    "We will now create a new column \"certificates\" with the columns data and message_type converted to a JSON object."
   ]
  },
  {
   "cell_type": "code",
   "execution_count": 15,
   "metadata": {},
   "outputs": [],
   "source": [
    "duplicates2 = duplicates2.withColumn('certificates', F.to_json(F.struct(F.col('data'), F.col('message_type'))))"
   ]
  },
  {
   "cell_type": "code",
   "execution_count": 16,
   "metadata": {},
   "outputs": [
    {
     "name": "stdout",
     "output_type": "stream",
     "text": [
      "+--------------------+--------------------+------------------+--------------------+\n",
      "|         fingerprint|                data|      message_type|        certificates|\n",
      "+--------------------+--------------------+------------------+--------------------+\n",
      "|00:08:50:2A:49:B2...|{686067012, http:...|certificate_update|{\"data\":{\"cert_in...|\n",
      "+--------------------+--------------------+------------------+--------------------+\n",
      "only showing top 1 row\n",
      "\n"
     ]
    }
   ],
   "source": [
    "duplicates2.show(1)"
   ]
  },
  {
   "cell_type": "markdown",
   "metadata": {},
   "source": [
    "Now that we have the information we want in the \"fingerprint\" and \"certificates\" columns, we can drop the original \"data\" and \"message_type\" columns."
   ]
  },
  {
   "cell_type": "code",
   "execution_count": 17,
   "metadata": {},
   "outputs": [],
   "source": [
    "duplicates2 = duplicates2.select('fingerprint', 'certificates')"
   ]
  },
  {
   "cell_type": "code",
   "execution_count": 18,
   "metadata": {},
   "outputs": [
    {
     "name": "stdout",
     "output_type": "stream",
     "text": [
      "+--------------------+--------------------+\n",
      "|         fingerprint|        certificates|\n",
      "+--------------------+--------------------+\n",
      "|00:08:50:2A:49:B2...|{\"data\":{\"cert_in...|\n",
      "+--------------------+--------------------+\n",
      "only showing top 1 row\n",
      "\n"
     ]
    }
   ],
   "source": [
    "duplicates2.show(1)"
   ]
  },
  {
   "cell_type": "markdown",
   "metadata": {},
   "source": [
    "Next, we will group the dataframe records by \"fingerprint\" and aggregate the \"certificates\" into a list. "
   ]
  },
  {
   "cell_type": "code",
   "execution_count": 19,
   "metadata": {},
   "outputs": [],
   "source": [
    "#GroupBy \"fingerprint\" and aggregate \"certificates\"\n",
    "grouped_df = duplicates2.groupBy(\"fingerprint\").agg(F.collect_list(\"certificates\"))"
   ]
  },
  {
   "cell_type": "code",
   "execution_count": 20,
   "metadata": {},
   "outputs": [
    {
     "name": "stdout",
     "output_type": "stream",
     "text": [
      "+-----------------------------------------------------------+----------------------------------------------------------------------------------------------------------------------------------------------------------------------------------------------------------------------------------------------------------------------------------------------------------------------------------------------------------------------------------------------------------------------------------------------------------------------------------------------------------------------------------------------------------------------------------------------------------------------------------------------------------------------------------------------------------------------------------------------------------------------------------------------------------------------------------------------------------------------------------------------------------------------------------------------------------------------------------------------------------------------------------------------------------------------------------------------------------------------------------------------------------------------------------------------------------------------------------------------------------------------------------------------------------------------------------------------------------------------------------------------------------------------------------------------------------------------------------------------------------------------------------------------------------------------------------------------------------------------------------------------------------------------------------------------------------------------------------------------------------------------------------------------------------------------------------------------------------------------------------------------------------------------------------------------------------------------------------------------------------------------------------------------------------------------------------------------------------------------------------------------------------------------------------------------------------------------------------------------------------------------------------------------------------------------------------------------------------------------------------------------------------------------------------------------------------------------------------------------------------------------------------------------------------------------------------------------------------------------------------------------------------------------------------------------------------------------------------------------------------------------------------------------------------------------------------------------------------------------------------------------------------------------------------------------------------------------------------------------------------------------------------------------------------------------------------------------------------------------------------------------------------------------------------------------------------------------------------------------------------------------------------------------------------------------------------------------------------------------------------------------------------------------------------------------------------------------------------------------------------------------------------------------------------------------------------------------------------------------------------------------------------------------------------------------------------------------------------------------------------------------------------------------------------------------------------------------------------------------------------------------------------------------------------------------------------------------------------------------------------------------------------------------------------------------------------------------------------------------------------------------------------------------------------------------------------------------------------------------------------------------------------------------------------------------------------------------------------------------------------------------------------------------------------------------------------------------------------------------------------------------------------------------------------------------------------------------------------------------------------------------------------------------------------------------------------------------------------------------------------------------------------------------------------------------------------------------------------------------------------------------------------------------------------------------------------------------------------------------------------------------------------------------------------------------------------------------------------------------------------------------------------------------------------------------------------------------------------------------------------------------------------------------------------------------------------------------------------------------------------------------------------------------------------------------------------------------------------------------------------------------------------------------------------------------------------------------------------------------------------------------------------------------------------------------------------------------------------------------------------------------------------------------------------------------------------------------------------------------------------------------------------------------------------------------------------------------------------------------------------------------------------------------------------------------------------------------------------------------------------------------------------------------------------------------------------------------------------------------------------------------------------------------------------------------------------------------------------------------------------------------------------------------------------------------------------------------------------------------------------------------------------------------------------------------------------------------------------------------------------------------------------------------------------------------------------------------------------------------------------------------------------------------------------------------------------------------------------------------------------------------------------------------------------------------------------------------------------------------------------------------------------------------------------------------------------------------------------------------------------------------------------------------------------------------------------------------------------------------------------------------------------------------------------------------------------------------------------------------------------------------------------------------------------------------------------------------------------------------------------------------------------------------------------------------------------------------------------------------------------------------------------------------------------------------------------------------------------------------------------------------------------------------------------------------------------------------------------------------------------------------------------------------------------------------------------------------------------------------------------------------------------------------------------------------------------------------------------------------------------------------------------------------------------------------------------------------------------------------------------------------------------------------------------------------------------------------------------------------------------------------------------------------------------------------------------------------------------------------------------------------------------------------------------------------------------------------------------------------------------------------------------------------------------------------------------------------------------------------------------------------------------------------------------------------------------------------------------------------------------------------------------------------------------------------------------------------------------------------------------------------------------------------------------------------------------------------------------------------------------------------------------------------------------------------------------------------------------------------------------------------------------------------------------------------------------------------------------------------------------------------------------------------------------------------------------------------------------------------------------------------------------------------------------------------------------------------------------------------------------------------------------------------------------------------------------------------------------------------------------------------------------------------------------------------------------------------------------------------------------------------------------------------------------------------------------------------------------------------------------------------------------------------------------------------------------------------------------------------------------------------------------------------------------------------------------------------------------------------------------------------------------------------------------------------------------------------------------------------------------------------------------------------------------------------------------------------------------------------------------------------------------------------------------------------------------------------------------------------------------------------------------------------------------------------------------------------------------------------------------------------------------------------------------------------------------------------------------------------------------------------------------------------------------------------------------------------------------------------------------------------------------------------------------------------------------------------------------------------------------------------------------------------------------------------------------------------------------------------------------------------------------------------------------------------------------------------------------------------------------------------------------------------------------------------------------------------------------------------------------------------------------------------------------------------------------------------------------------------------------------------------------------------------------------------------------------------------------------------------------------------------------------------------------------------------------------------------------------------------------------------------------------------------------------------------------------------------------------------------------------------------------------------------------------------------------------------------------------------------------------------------------------------------------------------------------------------------------------------------------------------------------------------------------------------------------------------------------------------------------------------------------------------------------------------------------------------------------------------------------------------------------------------------------------------------------------------------------------------------------------------------------------------------------------------------------------------------------------------------------------------------------------------------------------------------------------------------------------------------------------------------------------------------------------------------------------------------------------------------------------------------------------------------------------------------------------------------------------------------------------------------------------------------------------------------------------------------------------------------------------------------------------------------------------------------------------------------------------------------------------------------------------------------------------------------------------------------------------------------------------------------------------------------------------------------------------------------------------------------------------------------------------------------------------------------------------------------------------------------------------------------------------------------------------------------------------------------------------------------------------------------------------------------------------------------------------------------------------------------------------------------------------------------------------------------------------------------------------------------------------------------------------------------------------------------------------------------------------------------------------------------------------------------------------------------------------------------------------------------------------------------------------------------------------------------------------------------------------------------------------------------------------------------------------------------------------------------------------------------------------------------------------------------------------------------------------------------------------------------------------------------------------------------------------------------------------------------------------------------------------------------------------------------------------------------------------------------------------------------------------------------------------------------------------------------------------------------------------------------------------------------------------------------------------------------------------------------------------------------------------------------------------------------+\n",
      "|fingerprint                                                |collect_list(certificates)                                                                                                                                                                                                                                                                                                                                                                                                                                                                                                                                                                                                                                                                                                                                                                                                                                                                                                                                                                                                                                                                                                                                                                                                                                                                                                                                                                                                                                                                                                                                                                                                                                                                                                                                                                                                                                                                                                                                                                                                                                                                                                                                                                                                                                                                                                                                                                                                                                                                                                                                                                                                                                                                                                                                                                                                                                                                                                                                                                                                                                                                                                                                                                                                                                                                                                                                                                                                                                                                                                                                                                                                                                                                                                                                                                                                                                                                                                                                                                                                                                                                                                                                                                                                                                                                                                                                                                                                                                                                                                                                                                                                                                                                                                                                                                                                                                                                                                                                                                                                                                                                                                                                                                                                                                                                                                                                                                                                                                                                                                                                                                                                                                                                                                                                                                                                                                                                                                                                                                                                                                                                                                                                                                                                                                                                                                                                                                                                                                                                                                                                                                                                                                                                                                                                                                                                                                                                                                                                                                                                                                                                                                                                                                                                                                                                                                                                                                                                                                                                                                                                                                                                                                                                                                                                                                                                                                                                                                                                                                                                                                                                                                                                                                                                                                                                                                                                                                                                                                                                                                                                                                                                                                                                                                                                                                                                                                                                                                                                                                                                                                                                                                                                                                                                                                                                                                                                                                                                                                                                                                                                                                                                                                                                                                                                                                                                                                                                                                                                                                                                                                                                                                                                                                                                                                                                                                                                                                                                                                                                                                                                                                                                                                                                                                                                                                                                                                                                                                                                                                                                                                                                                                                                                                                                                                                                                                                                                                                                                                                                                                                                                                                                                                                                                                                                                                                                                                                                                                                                                                                                                                                                                                                                                                                                                                                                                                                                                                                                                                                                                                                                                                                                                                                                                                                                                                                                                                                                                                                                                                                                                                                                                                                                                                                                                                                                                                                                                                                                                                                                                                                                                                                                                                                                                                                                                                                                                                                                                                                                                                                                                                                                                                                                                                                                                                                                                                                                                                                                                                                                                                                                                                                                                                                                                                                                                                                                                                                                                                                                                                                                                                                                                                                                                                                                                                                                          |\n",
      "+-----------------------------------------------------------+----------------------------------------------------------------------------------------------------------------------------------------------------------------------------------------------------------------------------------------------------------------------------------------------------------------------------------------------------------------------------------------------------------------------------------------------------------------------------------------------------------------------------------------------------------------------------------------------------------------------------------------------------------------------------------------------------------------------------------------------------------------------------------------------------------------------------------------------------------------------------------------------------------------------------------------------------------------------------------------------------------------------------------------------------------------------------------------------------------------------------------------------------------------------------------------------------------------------------------------------------------------------------------------------------------------------------------------------------------------------------------------------------------------------------------------------------------------------------------------------------------------------------------------------------------------------------------------------------------------------------------------------------------------------------------------------------------------------------------------------------------------------------------------------------------------------------------------------------------------------------------------------------------------------------------------------------------------------------------------------------------------------------------------------------------------------------------------------------------------------------------------------------------------------------------------------------------------------------------------------------------------------------------------------------------------------------------------------------------------------------------------------------------------------------------------------------------------------------------------------------------------------------------------------------------------------------------------------------------------------------------------------------------------------------------------------------------------------------------------------------------------------------------------------------------------------------------------------------------------------------------------------------------------------------------------------------------------------------------------------------------------------------------------------------------------------------------------------------------------------------------------------------------------------------------------------------------------------------------------------------------------------------------------------------------------------------------------------------------------------------------------------------------------------------------------------------------------------------------------------------------------------------------------------------------------------------------------------------------------------------------------------------------------------------------------------------------------------------------------------------------------------------------------------------------------------------------------------------------------------------------------------------------------------------------------------------------------------------------------------------------------------------------------------------------------------------------------------------------------------------------------------------------------------------------------------------------------------------------------------------------------------------------------------------------------------------------------------------------------------------------------------------------------------------------------------------------------------------------------------------------------------------------------------------------------------------------------------------------------------------------------------------------------------------------------------------------------------------------------------------------------------------------------------------------------------------------------------------------------------------------------------------------------------------------------------------------------------------------------------------------------------------------------------------------------------------------------------------------------------------------------------------------------------------------------------------------------------------------------------------------------------------------------------------------------------------------------------------------------------------------------------------------------------------------------------------------------------------------------------------------------------------------------------------------------------------------------------------------------------------------------------------------------------------------------------------------------------------------------------------------------------------------------------------------------------------------------------------------------------------------------------------------------------------------------------------------------------------------------------------------------------------------------------------------------------------------------------------------------------------------------------------------------------------------------------------------------------------------------------------------------------------------------------------------------------------------------------------------------------------------------------------------------------------------------------------------------------------------------------------------------------------------------------------------------------------------------------------------------------------------------------------------------------------------------------------------------------------------------------------------------------------------------------------------------------------------------------------------------------------------------------------------------------------------------------------------------------------------------------------------------------------------------------------------------------------------------------------------------------------------------------------------------------------------------------------------------------------------------------------------------------------------------------------------------------------------------------------------------------------------------------------------------------------------------------------------------------------------------------------------------------------------------------------------------------------------------------------------------------------------------------------------------------------------------------------------------------------------------------------------------------------------------------------------------------------------------------------------------------------------------------------------------------------------------------------------------------------------------------------------------------------------------------------------------------------------------------------------------------------------------------------------------------------------------------------------------------------------------------------------------------------------------------------------------------------------------------------------------------------------------------------------------------------------------------------------------------------------------------------------------------------------------------------------------------------------------------------------------------------------------------------------------------------------------------------------------------------------------------------------------------------------------------------------------------------------------------------------------------------------------------------------------------------------------------------------------------------------------------------------------------------------------------------------------------------------------------------------------------------------------------------------------------------------------------------------------------------------------------------------------------------------------------------------------------------------------------------------------------------------------------------------------------------------------------------------------------------------------------------------------------------------------------------------------------------------------------------------------------------------------------------------------------------------------------------------------------------------------------------------------------------------------------------------------------------------------------------------------------------------------------------------------------------------------------------------------------------------------------------------------------------------------------------------------------------------------------------------------------------------------------------------------------------------------------------------------------------------------------------------------------------------------------------------------------------------------------------------------------------------------------------------------------------------------------------------------------------------------------------------------------------------------------------------------------------------------------------------------------------------------------------------------------------------------------------------------------------------------------------------------------------------------------------------------------------------------------------------------------------------------------------------------------------------------------------------------------------------------------------------------------------------------------------------------------------------------------------------------------------------------------------------------------------------------------------------------------------------------------------------------------------------------------------------------------------------------------------------------------------------------------------------------------------------------------------------------------------------------------------------------------------------------------------------------------------------------------------------------------------------------------------------------------------------------------------------------------------------------------------------------------------------------------------------------------------------------------------------------------------------------------------------------------------------------------------------------------------------------------------------------------------------------------------------------------------------------------------------------------------------------------------------------------------------------------------------------------------------------------------------------------------------------------------------------------------------------------------------------------------------------------------------------------------------------------------------------------------------------------------------------------------------------------------------------------------------------------------------------------------------------------------------------------------------------------------------------------------------------------------------------------------------------------------------------------------------------------------------------------------------------------------------------------------------------------------------------------------------------------------------------------------------------------------------------------------------------------------------------------------------------------------------------------------------------------------------------------------------------------------------------------------------------------------------------------------------------------------------------------------------------------------------------------------------------------------------------------------------------------------------------------------------------------------------------------------------------------------------------------------------------------------------------------------------------------------------------------------------------------------------------------------------------------------------------------------------------------------------------------------------------------------------------------------------------------------------------------------------------------------------------------------------------------------------------------------------------------------------------------------------------------------------------------------------------------------------------------------------------------------------------------------------------------------------------------------------------------------------------------------------------------------------------------------------------------------------------------------------------------------------------------------------------------------------------------------------------------------------------------------------------------------------------------------------------------------------------------------------------------------------------------------------------------------------------------------------------------------------------------------------------------------------------------------------------------------------------------------------------------------------------------------------------------------------------------------------------------------------------------------------------------------------------------------------------------------------------------------------------------------------------------------------------------------+\n",
      "|00:08:50:2A:49:B2:53:13:FD:E6:48:AE:3D:55:A4:23:93:36:D9:A7|[{\"data\":{\"cert_index\":686067012,\"cert_link\":\"http://ct.googleapis.com/icarus/ct/v1/get-entries?start=686067012&end=686067012\",\"chain\":[{\"as_der\":\"MIIEkjCCA3qgAwIBAgIQCgFBQgAAAVOFc2oLheynCDANBgkqhkiG9w0BAQsFADA/MSQwIgYDVQQKExtEaWdpdGFsIFNpZ25hdHVyZSBUcnVzdCBDby4xFzAVBgNVBAMTDkRTVCBSb290IENBIFgzMB4XDTE2MDMxNzE2NDA0NloXDTIxMDMxNzE2NDA0NlowSjELMAkGA1UEBhMCVVMxFjAUBgNVBAoTDUxldCdzIEVuY3J5cHQxIzAhBgNVBAMTGkxldCdzIEVuY3J5cHQgQXV0aG9yaXR5IFgzMIIBIjANBgkqhkiG9w0BAQEFAAOCAQ8AMIIBCgKCAQEAnNMM8FrlLke3cl03g7NoYzDq1zUmGSXhvb418XCSL7e4S0EFq6meNQhY7LEqxGiHC6PjdeTm86dicbp5gWAf15Gan/PQeGdxyGkOlZHP/uaZ6WA8SMx+yk13EiSdRxta67nsHjcAHJyse6cF6s5K671B5TaYucv9bTyWaN8jKkKQDIZ0Z8h/pZq4UmEUEz9l6YKHy9v6Dlb2honzhT+Xhq+w3Brvaw2VFn3EK6BlspkENnWAa6xK8xuQSXgvopZPKiAlKQTGdMDQMc2PMTiVFrqoM7hD8bEfwzB/onkxEz0tNvjj/PIzark5McWvxI0NHWQWM6r6hCm21AvA2H3DkwIDAQABo4IBfTCCAXkwEgYDVR0TAQH/BAgwBgEB/wIBADAOBgNVHQ8BAf8EBAMCAYYwfwYIKwYBBQUHAQEEczBxMDIGCCsGAQUFBzABhiZodHRwOi8vaXNyZy50cnVzdGlkLm9jc3AuaWRlbnRydXN0LmNvbTA7BggrBgEFBQcwAoYvaHR0cDovL2FwcHMuaWRlbnRydXN0LmNvbS9yb290cy9kc3Ryb290Y2F4My5wN2MwHwYDVR0jBBgwFoAUxKexpHsscfrb4UuQdf/EFWCFiRAwVAYDVR0gBE0wSzAIBgZngQwBAgEwPwYLKwYBBAGC3xMBAQEwMDAuBggrBgEFBQcCARYiaHR0cDovL2Nwcy5yb290LXgxLmxldHNlbmNyeXB0Lm9yZzA8BgNVHR8ENTAzMDGgL6AthitodHRwOi8vY3JsLmlkZW50cnVzdC5jb20vRFNUUk9PVENBWDNDUkwuY3JsMB0GA1UdDgQWBBSoSmpjBH3duubRObemRWXv86jsoTANBgkqhkiG9w0BAQsFAAOCAQEA3TPXEfNjWDjdGBX7CVW+dla5cEilaUcne8IkCJLxWh9KEik3JHRRHGJouM2VcGfl96S8TihRzZvoroed6ti6WqEBmtzw3Wodatg+VyOeph4EYpr/1wXKtx8/wApIvJSwtmVi4MFU5aMqrSDE6ea73Mj2tcMyo5jMd6jmeWUHK8so/joWUoHOUgwuX4Po1QYz+3dszkDqMp4fklxBwXRsW10KXzPMTZ+sOPAveyxindmjkW8lGy+QsRlGPfZ+G6Z6h7mjem0Y+iWlkYcV4PIWL1iwBi8saCbGS5jN2p8M+X+Q7UNKEkROb3N6KOqkqm57TH2H3eDJAkSnh6/DNFu0Qg==\",\"extensions\":{\"authorityInfoAccess\":\"CA Issuers - URI:http://apps.identrust.com/roots/dstrootcax3.p7c\\nOCSP - URI:http://isrg.trustid.ocsp.identrust.com\\n\",\"authorityKeyIdentifier\":\"keyid:C4:A7:B1:A4:7B:2C:71:FA:DB:E1:4B:90:75:FF:C4:15:60:85:89:10\\n\",\"basicConstraints\":\"CA:TRUE\",\"certificatePolicies\":\"Policy: 1.3.6.1.4.1.44947.1.1.1\\n  CPS: http://cps.root-x1.letsencrypt.org\",\"crlDistributionPoints\":\"Full Name:\\n URI:http://crl.identrust.com/DSTROOTCAX3CRL.crl\",\"keyUsage\":\"Digital Signature, Key Cert Sign, C R L Sign\",\"subjectKeyIdentifier\":\"A8:4A:6A:63:04:7D:DD:BA:E6:D1:39:B7:A6:45:65:EF:F3:A8:EC:A1\"},\"fingerprint\":\"E6:A3:B4:5B:06:2D:50:9B:33:82:28:2D:19:6E:FE:97:D5:95:6C:CB\",\"not_after\":1615999246,\"not_before\":1458232846,\"serial_number\":\"A0141420000015385736A0B85ECA708\",\"subject\":{\"C\":\"US\",\"CN\":\"Let's Encrypt Authority X3\",\"O\":\"Let's Encrypt\",\"aggregated\":\"/C=US/CN=Let's Encrypt Authority X3/O=Let's Encrypt\"}},{\"as_der\":\"MIIDSjCCAjKgAwIBAgIQRK+wgNajJ7qJMDmGLvhAazANBgkqhkiG9w0BAQUFADA/MSQwIgYDVQQKExtEaWdpdGFsIFNpZ25hdHVyZSBUcnVzdCBDby4xFzAVBgNVBAMTDkRTVCBSb290IENBIFgzMB4XDTAwMDkzMDIxMTIxOVoXDTIxMDkzMDE0MDExNVowPzEkMCIGA1UEChMbRGlnaXRhbCBTaWduYXR1cmUgVHJ1c3QgQ28uMRcwFQYDVQQDEw5EU1QgUm9vdCBDQSBYMzCCASIwDQYJKoZIhvcNAQEBBQADggEPADCCAQoCggEBAN+v6ZdQCINXtMxiZfaQguzH0yxrMMpb7NnDfcdAwRgUi+DoM3ZJKuM/IUmTrE4Orz5Iy2Xu/NMhD2XSKtkyj4zl93ewEnu1lcCJo6m67XMuegwGMoOifooUMM0RoOEqOLl5CjH9UL2AZd+3UWODyOKIYepLYYHsUmu5ouJLGiifSKOeDNoJjj4XLh7dIN9bxiqKqy69cK3FCxolkHRyxXtqqzTWMIn/5WgTe1QLyNau7Fqckh49ZLOMxt+/yUFw7BZy1SbsOFU5Q9D8/RhcQPGX69Wam40dutolucbY38EVAjqr2m7xPi71XAicPNaDaeQQmxkqtilX4+U9m5/wAl0CAwEAAaNCMEAwDwYDVR0TAQH/BAUwAwEB/zAOBgNVHQ8BAf8EBAMCAQYwHQYDVR0OBBYEFMSnsaR7LHH62+FLkHX/xBVghYkQMA0GCSqGSIb3DQEBBQUAA4IBAQCjGiybFwBcqR7uKGY3Or+Dxz9LwwmglSBd49lZRNI+DT69ikugdB/OEIKcdBodfpga3csTS7MgROSR6cz8faXbauX+5v3gTt23ADq1cEmv8uXrAvHRAosZy5Q6XkjEGB5YGV8eAlrwDPGxrancWYaLbumR9YbK+rlmM6pZW87ipxZzR8srzJmwN0jP41ZL9c8PDHIyh8bwRLtTcm1D9SZImlJnt1ir/md2cXjbDaJWFBM5JDGFoqgCWjBH4d1QB7wCCZAA62RjYJsWvIjJEubSfZGL+T0yjWW06XyxV3bqxbYoOb8VZRzI9neWagqNdwvYkQsEjgfbKbYK7p2CNTUQ\",\"extensions\":{\"basicConstraints\":\"CA:TRUE\",\"keyUsage\":\"Key Cert Sign, C R L Sign\",\"subjectKeyIdentifier\":\"C4:A7:B1:A4:7B:2C:71:FA:DB:E1:4B:90:75:FF:C4:15:60:85:89:10\"},\"fingerprint\":\"DA:C9:02:4F:54:D8:F6:DF:94:93:5F:B1:73:26:38:CA:6A:D7:7C:13\",\"not_after\":1633010475,\"not_before\":970348339,\"serial_number\":\"44AFB080D6A327BA893039862EF8406B\",\"subject\":{\"CN\":\"DST Root CA X3\",\"O\":\"Digital Signature Trust Co.\",\"aggregated\":\"/CN=DST Root CA X3/O=Digital Signature Trust Co.\"}}],\"leaf_cert\":{\"all_domains\":[\"roccos-gamesworld.de\",\"www.roccos-gamesworld.de\"],\"as_der\":\"MIIFhzCCBG+gAwIBAgISBHmNact5Y7az/bzFMRoVii09MA0GCSqGSIb3DQEBCwUAMEoxCzAJBgNVBAYTAlVTMRYwFAYDVQQKEw1MZXQncyBFbmNyeXB0MSMwIQYDVQQDExpMZXQncyBFbmNyeXB0IEF1dGhvcml0eSBYMzAeFw0xOTA4MTEwMDM0MTNaFw0xOTExMDkwMDM0MTNaMB8xHTAbBgNVBAMTFHJvY2Nvcy1nYW1lc3dvcmxkLmRlMIICIjANBgkqhkiG9w0BAQEFAAOCAg8AMIICCgKCAgEAugspo6lTZz1w0PxYOnKrhZffSUq7WHnyT9IvfVhcQvKvsp/HJNuH9VJq0vYfUm7GwGwUiq243qpE8Y0FYNJfXZOAIHrX3Gldv2XyLF11N00keQVwCSUZyH6U8Q2liYtcrzAaqe89pKtFv26RhfcMGx77dXfth/bG3YS5LhyxB+Uc8v6ZTm03qPQGX8W4E364vIySa9gwtkxCe/D1p/4HmsXxvTuO92NlFjyYq+i9CJaFaKfQNYFtFnXUnX2WViXHw2OM8KOGnePxx2eFxh/IYSxHwyNJSRv8wAfpw3ZB9WSFSne2+GEWXvHIUB2JdV3VNtWEK576cpfJdbU15lb63F0mPAbw3SDBjkgYX47UtYjx8ICstxza7LKGZs7G2u6tbHzomGC3MpI1R5PV5Xy/kq2lJUUTkDhF95DwGEyPqm3+GTvscZoEN9FydDwejrXfd8rGBKgPKBYkDnPqxhfW3vHfXflytpWIyzqoRqVgmI/NNt79068d9iCtZDFoPK/iFvafvkmC4VC1IGAj/A11M+DxnxpBA06IvNlL0E53kYjAnd6nbiC/rj89uDuYOj7ZVUBSRaHMk9dIGLYrqYuYk5SzsutoLg/LWlwLFK++g1WXZCMsBnvCNrqxVye222HzGg7pIVG4/2zG9GW0CJ+75Zkl3BXKR/z/0Q+jxt/ORYECAwEAAaOCAZAwggGMMA4GA1UdDwEB/wQEAwIFoDAdBgNVHSUEFjAUBggrBgEFBQcDAQYIKwYBBQUHAwIwDAYDVR0TAQH/BAIwADAdBgNVHQ4EFgQUVw4ER8bcBmSmzOkgZAF8JV4vpNowHwYDVR0jBBgwFoAUqEpqYwR93brm0Tm3pkVl7/Oo7KEwbwYIKwYBBQUHAQEEYzBhMC4GCCsGAQUFBzABhiJodHRwOi8vb2NzcC5pbnQteDMubGV0c2VuY3J5cHQub3JnMC8GCCsGAQUFBzAChiNodHRwOi8vY2VydC5pbnQteDMubGV0c2VuY3J5cHQub3JnLzA5BgNVHREEMjAwghRyb2Njb3MtZ2FtZXN3b3JsZC5kZYIYd3d3LnJvY2Nvcy1nYW1lc3dvcmxkLmRlMEwGA1UdIARFMEMwCAYGZ4EMAQIBMDcGCysGAQQBgt8TAQEBMCgwJgYIKwYBBQUHAgEWGmh0dHA6Ly9jcHMubGV0c2VuY3J5cHQub3JnMBMGCisGAQQB1nkCBAMBAf8EAgUAMA0GCSqGSIb3DQEBCwUAA4IBAQBD3tBVWG3loWDWbbwZ+p31PHhUmhMlT19Wy2dKyOqff3Aa4wNvAKc6FC9X69bNVuuEI+lQj1VKnSNr23L3qk037bHfCW8WK0zZIosJQHhOEVGoitWUb2boKVrKxLgdjb1ccaQNPtW8oNqMMrvXqjYW6Ilv/uTtTqDtRC1i9Gam1T8SK4gVhkTDSzHlAL10aqQKtGPMNPyW2rz4s9am9FWWrF5uJHNxhtl0Yh0vmyJJDDwTUz7CskM9W41k4i6HTTus7oPEJHYSqu9zkQQ0VNriq284vdud06cNs2pER5Iqqu7PFJmNRVxSODJWvTyWCn+rLBCghgx7ICh+4kcJt67R\",\"extensions\":{\"authorityInfoAccess\":\"CA Issuers - URI:http://cert.int-x3.letsencrypt.org/\\nOCSP - URI:http://ocsp.int-x3.letsencrypt.org\\n\",\"authorityKeyIdentifier\":\"keyid:A8:4A:6A:63:04:7D:DD:BA:E6:D1:39:B7:A6:45:65:EF:F3:A8:EC:A1\\n\",\"basicConstraints\":\"CA:FALSE\",\"certificatePolicies\":\"Policy: 1.3.6.1.4.1.44947.1.1.1\\n  CPS: http://cps.letsencrypt.org\",\"ctlPoisonByte\":true,\"extendedKeyUsage\":\"TLS Web server authentication, TLS Web client authentication\",\"keyUsage\":\"Digital Signature, Key Encipherment\",\"subjectAltName\":\"DNS:www.roccos-gamesworld.de, DNS:roccos-gamesworld.de\",\"subjectKeyIdentifier\":\"57:0E:04:47:C6:DC:06:64:A6:CC:E9:20:64:01:7C:25:5E:2F:A4:DA\"},\"fingerprint\":\"00:08:50:2A:49:B2:53:13:FD:E6:48:AE:3D:55:A4:23:93:36:D9:A7\",\"not_after\":1573259653,\"not_before\":1565483653,\"serial_number\":\"4798D69CB7963B6B3FDBCC5311A158A2D3D\",\"subject\":{\"CN\":\"roccos-gamesworld.de\",\"aggregated\":\"/CN=roccos-gamesworld.de\"}},\"seen\":1.565487328167162E9,\"source\":{\"name\":\"Google 'Icarus' log\",\"url\":\"ct.googleapis.com/icarus/\"},\"update_type\":\"PrecertLogEntry\"},\"message_type\":\"certificate_update\"}, {\"data\":{\"cert_index\":425760954,\"cert_link\":\"http://oak.ct.letsencrypt.org/2019/ct/v1/get-entries?start=425760954&end=425760954\",\"chain\":[{\"as_der\":\"MIIEkjCCA3qgAwIBAgIQCgFBQgAAAVOFc2oLheynCDANBgkqhkiG9w0BAQsFADA/MSQwIgYDVQQKExtEaWdpdGFsIFNpZ25hdHVyZSBUcnVzdCBDby4xFzAVBgNVBAMTDkRTVCBSb290IENBIFgzMB4XDTE2MDMxNzE2NDA0NloXDTIxMDMxNzE2NDA0NlowSjELMAkGA1UEBhMCVVMxFjAUBgNVBAoTDUxldCdzIEVuY3J5cHQxIzAhBgNVBAMTGkxldCdzIEVuY3J5cHQgQXV0aG9yaXR5IFgzMIIBIjANBgkqhkiG9w0BAQEFAAOCAQ8AMIIBCgKCAQEAnNMM8FrlLke3cl03g7NoYzDq1zUmGSXhvb418XCSL7e4S0EFq6meNQhY7LEqxGiHC6PjdeTm86dicbp5gWAf15Gan/PQeGdxyGkOlZHP/uaZ6WA8SMx+yk13EiSdRxta67nsHjcAHJyse6cF6s5K671B5TaYucv9bTyWaN8jKkKQDIZ0Z8h/pZq4UmEUEz9l6YKHy9v6Dlb2honzhT+Xhq+w3Brvaw2VFn3EK6BlspkENnWAa6xK8xuQSXgvopZPKiAlKQTGdMDQMc2PMTiVFrqoM7hD8bEfwzB/onkxEz0tNvjj/PIzark5McWvxI0NHWQWM6r6hCm21AvA2H3DkwIDAQABo4IBfTCCAXkwEgYDVR0TAQH/BAgwBgEB/wIBADAOBgNVHQ8BAf8EBAMCAYYwfwYIKwYBBQUHAQEEczBxMDIGCCsGAQUFBzABhiZodHRwOi8vaXNyZy50cnVzdGlkLm9jc3AuaWRlbnRydXN0LmNvbTA7BggrBgEFBQcwAoYvaHR0cDovL2FwcHMuaWRlbnRydXN0LmNvbS9yb290cy9kc3Ryb290Y2F4My5wN2MwHwYDVR0jBBgwFoAUxKexpHsscfrb4UuQdf/EFWCFiRAwVAYDVR0gBE0wSzAIBgZngQwBAgEwPwYLKwYBBAGC3xMBAQEwMDAuBggrBgEFBQcCARYiaHR0cDovL2Nwcy5yb290LXgxLmxldHNlbmNyeXB0Lm9yZzA8BgNVHR8ENTAzMDGgL6AthitodHRwOi8vY3JsLmlkZW50cnVzdC5jb20vRFNUUk9PVENBWDNDUkwuY3JsMB0GA1UdDgQWBBSoSmpjBH3duubRObemRWXv86jsoTANBgkqhkiG9w0BAQsFAAOCAQEA3TPXEfNjWDjdGBX7CVW+dla5cEilaUcne8IkCJLxWh9KEik3JHRRHGJouM2VcGfl96S8TihRzZvoroed6ti6WqEBmtzw3Wodatg+VyOeph4EYpr/1wXKtx8/wApIvJSwtmVi4MFU5aMqrSDE6ea73Mj2tcMyo5jMd6jmeWUHK8so/joWUoHOUgwuX4Po1QYz+3dszkDqMp4fklxBwXRsW10KXzPMTZ+sOPAveyxindmjkW8lGy+QsRlGPfZ+G6Z6h7mjem0Y+iWlkYcV4PIWL1iwBi8saCbGS5jN2p8M+X+Q7UNKEkROb3N6KOqkqm57TH2H3eDJAkSnh6/DNFu0Qg==\",\"extensions\":{\"authorityInfoAccess\":\"CA Issuers - URI:http://apps.identrust.com/roots/dstrootcax3.p7c\\nOCSP - URI:http://isrg.trustid.ocsp.identrust.com\\n\",\"authorityKeyIdentifier\":\"keyid:C4:A7:B1:A4:7B:2C:71:FA:DB:E1:4B:90:75:FF:C4:15:60:85:89:10\\n\",\"basicConstraints\":\"CA:TRUE\",\"certificatePolicies\":\"Policy: 1.3.6.1.4.1.44947.1.1.1\\n  CPS: http://cps.root-x1.letsencrypt.org\",\"crlDistributionPoints\":\"Full Name:\\n URI:http://crl.identrust.com/DSTROOTCAX3CRL.crl\",\"keyUsage\":\"Digital Signature, Key Cert Sign, C R L Sign\",\"subjectKeyIdentifier\":\"A8:4A:6A:63:04:7D:DD:BA:E6:D1:39:B7:A6:45:65:EF:F3:A8:EC:A1\"},\"fingerprint\":\"E6:A3:B4:5B:06:2D:50:9B:33:82:28:2D:19:6E:FE:97:D5:95:6C:CB\",\"not_after\":1615999246,\"not_before\":1458232846,\"serial_number\":\"A0141420000015385736A0B85ECA708\",\"subject\":{\"C\":\"US\",\"CN\":\"Let's Encrypt Authority X3\",\"O\":\"Let's Encrypt\",\"aggregated\":\"/C=US/CN=Let's Encrypt Authority X3/O=Let's Encrypt\"}},{\"as_der\":\"MIIDSjCCAjKgAwIBAgIQRK+wgNajJ7qJMDmGLvhAazANBgkqhkiG9w0BAQUFADA/MSQwIgYDVQQKExtEaWdpdGFsIFNpZ25hdHVyZSBUcnVzdCBDby4xFzAVBgNVBAMTDkRTVCBSb290IENBIFgzMB4XDTAwMDkzMDIxMTIxOVoXDTIxMDkzMDE0MDExNVowPzEkMCIGA1UEChMbRGlnaXRhbCBTaWduYXR1cmUgVHJ1c3QgQ28uMRcwFQYDVQQDEw5EU1QgUm9vdCBDQSBYMzCCASIwDQYJKoZIhvcNAQEBBQADggEPADCCAQoCggEBAN+v6ZdQCINXtMxiZfaQguzH0yxrMMpb7NnDfcdAwRgUi+DoM3ZJKuM/IUmTrE4Orz5Iy2Xu/NMhD2XSKtkyj4zl93ewEnu1lcCJo6m67XMuegwGMoOifooUMM0RoOEqOLl5CjH9UL2AZd+3UWODyOKIYepLYYHsUmu5ouJLGiifSKOeDNoJjj4XLh7dIN9bxiqKqy69cK3FCxolkHRyxXtqqzTWMIn/5WgTe1QLyNau7Fqckh49ZLOMxt+/yUFw7BZy1SbsOFU5Q9D8/RhcQPGX69Wam40dutolucbY38EVAjqr2m7xPi71XAicPNaDaeQQmxkqtilX4+U9m5/wAl0CAwEAAaNCMEAwDwYDVR0TAQH/BAUwAwEB/zAOBgNVHQ8BAf8EBAMCAQYwHQYDVR0OBBYEFMSnsaR7LHH62+FLkHX/xBVghYkQMA0GCSqGSIb3DQEBBQUAA4IBAQCjGiybFwBcqR7uKGY3Or+Dxz9LwwmglSBd49lZRNI+DT69ikugdB/OEIKcdBodfpga3csTS7MgROSR6cz8faXbauX+5v3gTt23ADq1cEmv8uXrAvHRAosZy5Q6XkjEGB5YGV8eAlrwDPGxrancWYaLbumR9YbK+rlmM6pZW87ipxZzR8srzJmwN0jP41ZL9c8PDHIyh8bwRLtTcm1D9SZImlJnt1ir/md2cXjbDaJWFBM5JDGFoqgCWjBH4d1QB7wCCZAA62RjYJsWvIjJEubSfZGL+T0yjWW06XyxV3bqxbYoOb8VZRzI9neWagqNdwvYkQsEjgfbKbYK7p2CNTUQ\",\"extensions\":{\"basicConstraints\":\"CA:TRUE\",\"keyUsage\":\"Key Cert Sign, C R L Sign\",\"subjectKeyIdentifier\":\"C4:A7:B1:A4:7B:2C:71:FA:DB:E1:4B:90:75:FF:C4:15:60:85:89:10\"},\"fingerprint\":\"DA:C9:02:4F:54:D8:F6:DF:94:93:5F:B1:73:26:38:CA:6A:D7:7C:13\",\"not_after\":1633010475,\"not_before\":970348339,\"serial_number\":\"44AFB080D6A327BA893039862EF8406B\",\"subject\":{\"CN\":\"DST Root CA X3\",\"O\":\"Digital Signature Trust Co.\",\"aggregated\":\"/CN=DST Root CA X3/O=Digital Signature Trust Co.\"}}],\"leaf_cert\":{\"all_domains\":[\"roccos-gamesworld.de\",\"www.roccos-gamesworld.de\"],\"as_der\":\"MIIFhzCCBG+gAwIBAgISBHmNact5Y7az/bzFMRoVii09MA0GCSqGSIb3DQEBCwUAMEoxCzAJBgNVBAYTAlVTMRYwFAYDVQQKEw1MZXQncyBFbmNyeXB0MSMwIQYDVQQDExpMZXQncyBFbmNyeXB0IEF1dGhvcml0eSBYMzAeFw0xOTA4MTEwMDM0MTNaFw0xOTExMDkwMDM0MTNaMB8xHTAbBgNVBAMTFHJvY2Nvcy1nYW1lc3dvcmxkLmRlMIICIjANBgkqhkiG9w0BAQEFAAOCAg8AMIICCgKCAgEAugspo6lTZz1w0PxYOnKrhZffSUq7WHnyT9IvfVhcQvKvsp/HJNuH9VJq0vYfUm7GwGwUiq243qpE8Y0FYNJfXZOAIHrX3Gldv2XyLF11N00keQVwCSUZyH6U8Q2liYtcrzAaqe89pKtFv26RhfcMGx77dXfth/bG3YS5LhyxB+Uc8v6ZTm03qPQGX8W4E364vIySa9gwtkxCe/D1p/4HmsXxvTuO92NlFjyYq+i9CJaFaKfQNYFtFnXUnX2WViXHw2OM8KOGnePxx2eFxh/IYSxHwyNJSRv8wAfpw3ZB9WSFSne2+GEWXvHIUB2JdV3VNtWEK576cpfJdbU15lb63F0mPAbw3SDBjkgYX47UtYjx8ICstxza7LKGZs7G2u6tbHzomGC3MpI1R5PV5Xy/kq2lJUUTkDhF95DwGEyPqm3+GTvscZoEN9FydDwejrXfd8rGBKgPKBYkDnPqxhfW3vHfXflytpWIyzqoRqVgmI/NNt79068d9iCtZDFoPK/iFvafvkmC4VC1IGAj/A11M+DxnxpBA06IvNlL0E53kYjAnd6nbiC/rj89uDuYOj7ZVUBSRaHMk9dIGLYrqYuYk5SzsutoLg/LWlwLFK++g1WXZCMsBnvCNrqxVye222HzGg7pIVG4/2zG9GW0CJ+75Zkl3BXKR/z/0Q+jxt/ORYECAwEAAaOCAZAwggGMMA4GA1UdDwEB/wQEAwIFoDAdBgNVHSUEFjAUBggrBgEFBQcDAQYIKwYBBQUHAwIwDAYDVR0TAQH/BAIwADAdBgNVHQ4EFgQUVw4ER8bcBmSmzOkgZAF8JV4vpNowHwYDVR0jBBgwFoAUqEpqYwR93brm0Tm3pkVl7/Oo7KEwbwYIKwYBBQUHAQEEYzBhMC4GCCsGAQUFBzABhiJodHRwOi8vb2NzcC5pbnQteDMubGV0c2VuY3J5cHQub3JnMC8GCCsGAQUFBzAChiNodHRwOi8vY2VydC5pbnQteDMubGV0c2VuY3J5cHQub3JnLzA5BgNVHREEMjAwghRyb2Njb3MtZ2FtZXN3b3JsZC5kZYIYd3d3LnJvY2Nvcy1nYW1lc3dvcmxkLmRlMEwGA1UdIARFMEMwCAYGZ4EMAQIBMDcGCysGAQQBgt8TAQEBMCgwJgYIKwYBBQUHAgEWGmh0dHA6Ly9jcHMubGV0c2VuY3J5cHQub3JnMBMGCisGAQQB1nkCBAMBAf8EAgUAMA0GCSqGSIb3DQEBCwUAA4IBAQBD3tBVWG3loWDWbbwZ+p31PHhUmhMlT19Wy2dKyOqff3Aa4wNvAKc6FC9X69bNVuuEI+lQj1VKnSNr23L3qk037bHfCW8WK0zZIosJQHhOEVGoitWUb2boKVrKxLgdjb1ccaQNPtW8oNqMMrvXqjYW6Ilv/uTtTqDtRC1i9Gam1T8SK4gVhkTDSzHlAL10aqQKtGPMNPyW2rz4s9am9FWWrF5uJHNxhtl0Yh0vmyJJDDwTUz7CskM9W41k4i6HTTus7oPEJHYSqu9zkQQ0VNriq284vdud06cNs2pER5Iqqu7PFJmNRVxSODJWvTyWCn+rLBCghgx7ICh+4kcJt67R\",\"extensions\":{\"authorityInfoAccess\":\"CA Issuers - URI:http://cert.int-x3.letsencrypt.org/\\nOCSP - URI:http://ocsp.int-x3.letsencrypt.org\\n\",\"authorityKeyIdentifier\":\"keyid:A8:4A:6A:63:04:7D:DD:BA:E6:D1:39:B7:A6:45:65:EF:F3:A8:EC:A1\\n\",\"basicConstraints\":\"CA:FALSE\",\"certificatePolicies\":\"Policy: 1.3.6.1.4.1.44947.1.1.1\\n  CPS: http://cps.letsencrypt.org\",\"ctlPoisonByte\":true,\"extendedKeyUsage\":\"TLS Web server authentication, TLS Web client authentication\",\"keyUsage\":\"Digital Signature, Key Encipherment\",\"subjectAltName\":\"DNS:www.roccos-gamesworld.de, DNS:roccos-gamesworld.de\",\"subjectKeyIdentifier\":\"57:0E:04:47:C6:DC:06:64:A6:CC:E9:20:64:01:7C:25:5E:2F:A4:DA\"},\"fingerprint\":\"00:08:50:2A:49:B2:53:13:FD:E6:48:AE:3D:55:A4:23:93:36:D9:A7\",\"not_after\":1573259653,\"not_before\":1565483653,\"serial_number\":\"4798D69CB7963B6B3FDBCC5311A158A2D3D\",\"subject\":{\"CN\":\"roccos-gamesworld.de\",\"aggregated\":\"/CN=roccos-gamesworld.de\"}},\"seen\":1.565487265016462E9,\"source\":{\"name\":\"Let's Encrypt 'Oak2019' log\",\"url\":\"oak.ct.letsencrypt.org/2019/\"},\"update_type\":\"PrecertLogEntry\"},\"message_type\":\"certificate_update\"}]|\n",
      "+-----------------------------------------------------------+----------------------------------------------------------------------------------------------------------------------------------------------------------------------------------------------------------------------------------------------------------------------------------------------------------------------------------------------------------------------------------------------------------------------------------------------------------------------------------------------------------------------------------------------------------------------------------------------------------------------------------------------------------------------------------------------------------------------------------------------------------------------------------------------------------------------------------------------------------------------------------------------------------------------------------------------------------------------------------------------------------------------------------------------------------------------------------------------------------------------------------------------------------------------------------------------------------------------------------------------------------------------------------------------------------------------------------------------------------------------------------------------------------------------------------------------------------------------------------------------------------------------------------------------------------------------------------------------------------------------------------------------------------------------------------------------------------------------------------------------------------------------------------------------------------------------------------------------------------------------------------------------------------------------------------------------------------------------------------------------------------------------------------------------------------------------------------------------------------------------------------------------------------------------------------------------------------------------------------------------------------------------------------------------------------------------------------------------------------------------------------------------------------------------------------------------------------------------------------------------------------------------------------------------------------------------------------------------------------------------------------------------------------------------------------------------------------------------------------------------------------------------------------------------------------------------------------------------------------------------------------------------------------------------------------------------------------------------------------------------------------------------------------------------------------------------------------------------------------------------------------------------------------------------------------------------------------------------------------------------------------------------------------------------------------------------------------------------------------------------------------------------------------------------------------------------------------------------------------------------------------------------------------------------------------------------------------------------------------------------------------------------------------------------------------------------------------------------------------------------------------------------------------------------------------------------------------------------------------------------------------------------------------------------------------------------------------------------------------------------------------------------------------------------------------------------------------------------------------------------------------------------------------------------------------------------------------------------------------------------------------------------------------------------------------------------------------------------------------------------------------------------------------------------------------------------------------------------------------------------------------------------------------------------------------------------------------------------------------------------------------------------------------------------------------------------------------------------------------------------------------------------------------------------------------------------------------------------------------------------------------------------------------------------------------------------------------------------------------------------------------------------------------------------------------------------------------------------------------------------------------------------------------------------------------------------------------------------------------------------------------------------------------------------------------------------------------------------------------------------------------------------------------------------------------------------------------------------------------------------------------------------------------------------------------------------------------------------------------------------------------------------------------------------------------------------------------------------------------------------------------------------------------------------------------------------------------------------------------------------------------------------------------------------------------------------------------------------------------------------------------------------------------------------------------------------------------------------------------------------------------------------------------------------------------------------------------------------------------------------------------------------------------------------------------------------------------------------------------------------------------------------------------------------------------------------------------------------------------------------------------------------------------------------------------------------------------------------------------------------------------------------------------------------------------------------------------------------------------------------------------------------------------------------------------------------------------------------------------------------------------------------------------------------------------------------------------------------------------------------------------------------------------------------------------------------------------------------------------------------------------------------------------------------------------------------------------------------------------------------------------------------------------------------------------------------------------------------------------------------------------------------------------------------------------------------------------------------------------------------------------------------------------------------------------------------------------------------------------------------------------------------------------------------------------------------------------------------------------------------------------------------------------------------------------------------------------------------------------------------------------------------------------------------------------------------------------------------------------------------------------------------------------------------------------------------------------------------------------------------------------------------------------------------------------------------------------------------------------------------------------------------------------------------------------------------------------------------------------------------------------------------------------------------------------------------------------------------------------------------------------------------------------------------------------------------------------------------------------------------------------------------------------------------------------------------------------------------------------------------------------------------------------------------------------------------------------------------------------------------------------------------------------------------------------------------------------------------------------------------------------------------------------------------------------------------------------------------------------------------------------------------------------------------------------------------------------------------------------------------------------------------------------------------------------------------------------------------------------------------------------------------------------------------------------------------------------------------------------------------------------------------------------------------------------------------------------------------------------------------------------------------------------------------------------------------------------------------------------------------------------------------------------------------------------------------------------------------------------------------------------------------------------------------------------------------------------------------------------------------------------------------------------------------------------------------------------------------------------------------------------------------------------------------------------------------------------------------------------------------------------------------------------------------------------------------------------------------------------------------------------------------------------------------------------------------------------------------------------------------------------------------------------------------------------------------------------------------------------------------------------------------------------------------------------------------------------------------------------------------------------------------------------------------------------------------------------------------------------------------------------------------------------------------------------------------------------------------------------------------------------------------------------------------------------------------------------------------------------------------------------------------------------------------------------------------------------------------------------------------------------------------------------------------------------------------------------------------------------------------------------------------------------------------------------------------------------------------------------------------------------------------------------------------------------------------------------------------------------------------------------------------------------------------------------------------------------------------------------------------------------------------------------------------------------------------------------------------------------------------------------------------------------------------------------------------------------------------------------------------------------------------------------------------------------------------------------------------------------------------------------------------------------------------------------------------------------------------------------------------------------------------------------------------------------------------------------------------------------------------------------------------------------------------------------------------------------------------------------------------------------------------------------------------------------------------------------------------------------------------------------------------------------------------------------------------------------------------------------------------------------------------------------------------------------------------------------------------------------------------------------------------------------------------------------------------------------------------------------------------------------------------------------------------------------------------------------------------------------------------------------------------------------------------------------------------------------------------------------------------------------------------------------------------------------------------------------------------------------------------------------------------------------------------------------------------------------------------------------------------------------------------------------------------------------------------------------------------------------------------------------------------------------------------------------------------------------------------------------------------------------------------------------------------------------------------------------------------------------------------------------------------------------------------------------------------------------------------------------------------------------------------------------------------------------------------------------------------------------------------------------------------------------------------------------------------------------------------------------------------------------------------------------------------------------------------------------------------------------------------------------------------------------------------------------------------------------------------------------------------------------------------------------------------------------------------------------------------------------------------------------------------------------------------------------------------------------------------------------------------------------------------------------------------------------------------------------------------------------------------------------------------------------------------------------------------------------------------------------------------------------------------------------------------------------------------------------------------------------------------------------------------------------------------------------------------------------------------------------------------------------------------------------------------------+\n",
      "only showing top 1 row\n",
      "\n"
     ]
    }
   ],
   "source": [
    "#Display one record with truncate set to False so we can view the entire output\n",
    "grouped_df.show(1, False)"
   ]
  },
  {
   "cell_type": "markdown",
   "metadata": {},
   "source": [
    "We have successfully aggregated the certificates into a list associated with the same fingerprint. The final step of part 1 is writing the output back to a JSON with gzip compression. "
   ]
  },
  {
   "cell_type": "code",
   "execution_count": 21,
   "metadata": {
    "scrolled": true
   },
   "outputs": [],
   "source": [
    "#Write grouped_df to gzip JSON\n",
    "#Line is commented to prevent further writing of output\n",
    "\n",
    "#grouped_df.coalesce(1).write.option(\"compression\",\"gzip\").json('RD_outputs.json')"
   ]
  },
  {
   "cell_type": "markdown",
   "metadata": {},
   "source": [
    "## Part 2: Bonus Analytical Exercise - Identify Phishing Domains"
   ]
  },
  {
   "cell_type": "markdown",
   "metadata": {},
   "source": [
    "In the second part of the project, we aim to identify phishing domains using the CT data and look for insights on the results. Primarily, we want to answer the following questions:\n",
    "\n",
    "1) What are the top TLDs for phishing domains?\n",
    "\n",
    "2) What are the top issuers of certificates for phishing domains?\n",
    "\n",
    "To accomplish this, we will use select keywords for frequently exploited services and search for different patterns."
   ]
  },
  {
   "cell_type": "code",
   "execution_count": 22,
   "metadata": {},
   "outputs": [],
   "source": [
    "#Create a new dataframe \"domain\" that is identical to the first dataframe after we imported the JSONlines\n",
    "domain = df"
   ]
  },
  {
   "cell_type": "markdown",
   "metadata": {},
   "source": [
    "The domains are contained under the leaf certificate. Additionally, information on the certificate authority is also contained under the leaf certificate structure. Let's edit our dataframe to only contain these columns."
   ]
  },
  {
   "cell_type": "code",
   "execution_count": 23,
   "metadata": {},
   "outputs": [],
   "source": [
    "domain = df.select('data.leaf_cert.extensions.authorityInfoAccess','data.leaf_cert.all_domains')"
   ]
  },
  {
   "cell_type": "code",
   "execution_count": 24,
   "metadata": {},
   "outputs": [
    {
     "name": "stdout",
     "output_type": "stream",
     "text": [
      "+--------------------+--------------------+\n",
      "| authorityInfoAccess|         all_domains|\n",
      "+--------------------+--------------------+\n",
      "|CA Issuers - URI:...|[autodiscover.chi...|\n",
      "|CA Issuers - URI:...|[develsystem.ru, ...|\n",
      "|CA Issuers - URI:...|[content.insta.ki...|\n",
      "|CA Issuers - URI:...|[him.workylla.com...|\n",
      "|OCSP - URI:http:/...|[cpanel.thetroves...|\n",
      "|CA Issuers - URI:...|[*.5e764d1fd1ea49...|\n",
      "|CA Issuers - URI:...|[shop.catholicama...|\n",
      "|CA Issuers - URI:...|[airguninsight.co...|\n",
      "|CA Issuers - URI:...|[www.ojsrvvaairou...|\n",
      "|CA Issuers - URI:...|[autodiscover.the...|\n",
      "+--------------------+--------------------+\n",
      "only showing top 10 rows\n",
      "\n"
     ]
    }
   ],
   "source": [
    "domain.show(10)"
   ]
  },
  {
   "cell_type": "code",
   "execution_count": 25,
   "metadata": {},
   "outputs": [
    {
     "data": {
      "text/plain": [
       "[('authorityInfoAccess', 'string'), ('all_domains', 'array<string>')]"
      ]
     },
     "execution_count": 25,
     "metadata": {},
     "output_type": "execute_result"
    }
   ],
   "source": [
    "#Check data types\n",
    "domain.dtypes"
   ]
  },
  {
   "cell_type": "markdown",
   "metadata": {},
   "source": [
    "To extract the information we want, we will use a regular expression (regexp) on the target column. In this case, the target column is \"all_domains\". We will cast \"all_domains\" to a string type column so we can implement the regexp."
   ]
  },
  {
   "cell_type": "code",
   "execution_count": 26,
   "metadata": {},
   "outputs": [],
   "source": [
    "domain = domain.withColumn('domains', F.col('all_domains').cast('string'))"
   ]
  },
  {
   "cell_type": "code",
   "execution_count": 27,
   "metadata": {},
   "outputs": [
    {
     "data": {
      "text/plain": [
       "[('authorityInfoAccess', 'string'),\n",
       " ('all_domains', 'array<string>'),\n",
       " ('domains', 'string')]"
      ]
     },
     "execution_count": 27,
     "metadata": {},
     "output_type": "execute_result"
    }
   ],
   "source": [
    "domain.dtypes"
   ]
  },
  {
   "cell_type": "markdown",
   "metadata": {},
   "source": [
    "We can see that we have successfully created a new column \"domains\" that is a string type. In this exercise, we will identify domains containing strings with the keyword \"google\" or \"paypal\". The regexp will search for these keywords that are embedded within a string of other characters. If there is a match, the function will return the top level domain (TLD) to the column \"TLD\"."
   ]
  },
  {
   "cell_type": "code",
   "execution_count": 28,
   "metadata": {},
   "outputs": [],
   "source": [
    "#Create new column \"TLD\" with information extracted via REGEXP\n",
    "embedded_domains = domain.withColumn('TLD',(F.regexp_extract(F.col('domains'), r'\\b(?:\\S+)(google|paypal)(?:\\S*)([.].\\w+)\\b',2)))"
   ]
  },
  {
   "cell_type": "code",
   "execution_count": 29,
   "metadata": {},
   "outputs": [
    {
     "name": "stdout",
     "output_type": "stream",
     "text": [
      "+--------------------+--------------------+--------------------+---+\n",
      "| authorityInfoAccess|         all_domains|             domains|TLD|\n",
      "+--------------------+--------------------+--------------------+---+\n",
      "|CA Issuers - URI:...|[autodiscover.chi...|[autodiscover.chi...|   |\n",
      "|CA Issuers - URI:...|[develsystem.ru, ...|[develsystem.ru, ...|   |\n",
      "|CA Issuers - URI:...|[content.insta.ki...|[content.insta.ki...|   |\n",
      "|CA Issuers - URI:...|[him.workylla.com...|[him.workylla.com...|   |\n",
      "|OCSP - URI:http:/...|[cpanel.thetroves...|[cpanel.thetroves...|   |\n",
      "+--------------------+--------------------+--------------------+---+\n",
      "only showing top 5 rows\n",
      "\n"
     ]
    }
   ],
   "source": [
    "#Show 5 examples\n",
    "embedded_domains.show(5)"
   ]
  },
  {
   "cell_type": "markdown",
   "metadata": {},
   "source": [
    "We can see that we successfully created the TLD column. However, there are blank 'TLD' values for rows where the regexp did not match the pattern. Let's make sure we successfully extracted values for other rows by sorting the TLD column by descending."
   ]
  },
  {
   "cell_type": "code",
   "execution_count": 30,
   "metadata": {
    "scrolled": true
   },
   "outputs": [
    {
     "name": "stdout",
     "output_type": "stream",
     "text": [
      "+--------------------+--------------------+--------------------+---+\n",
      "| authorityInfoAccess|         all_domains|             domains|TLD|\n",
      "+--------------------+--------------------+--------------------+---+\n",
      "|CA Issuers - URI:...|[bid.googlezone.c...|[bid.googlezone.c...|.za|\n",
      "|CA Issuers - URI:...|[paypal.sikone-en...|[paypal.sikone-en...|.za|\n",
      "|OCSP - URI:http:/...|[googledocs.bhayi...|[googledocs.bhayi...|.za|\n",
      "+--------------------+--------------------+--------------------+---+\n",
      "only showing top 3 rows\n",
      "\n"
     ]
    }
   ],
   "source": [
    "embedded_domains.sort(F.col('TLD').desc()).show(3)"
   ]
  },
  {
   "cell_type": "markdown",
   "metadata": {},
   "source": [
    "As we can see, we successfully extracted the TLD capture group for other rows. We will need to replace blank values with a null type so we can exclude those rows from our count."
   ]
  },
  {
   "cell_type": "code",
   "execution_count": 31,
   "metadata": {},
   "outputs": [],
   "source": [
    "#Replace blank values with Null\n",
    "embedded_domains = embedded_domains.withColumn('TLD', F.when(F.col('TLD') == '', None).otherwise(F.col('TLD')))"
   ]
  },
  {
   "cell_type": "code",
   "execution_count": 32,
   "metadata": {},
   "outputs": [],
   "source": [
    "#Filter dataframe to remove rows with null values for TLD\n",
    "embedded_domains = embedded_domains.filter(F.col('TLD').isNotNull())"
   ]
  },
  {
   "cell_type": "markdown",
   "metadata": {},
   "source": [
    "Now that we have successfully removed the rows with null values for TLD, we can count the number of unique TLDs and sort by descending."
   ]
  },
  {
   "cell_type": "code",
   "execution_count": 33,
   "metadata": {},
   "outputs": [
    {
     "name": "stdout",
     "output_type": "stream",
     "text": [
      "+-----+-----+\n",
      "|  TLD|count|\n",
      "+-----+-----+\n",
      "| .com|  350|\n",
      "|  .ms|  156|\n",
      "|.info|   58|\n",
      "| .net|   33|\n",
      "|.blog|   27|\n",
      "|  .ru|   20|\n",
      "| .org|   20|\n",
      "|  .br|   19|\n",
      "|  .uk|   14|\n",
      "|  .io|   13|\n",
      "|  .ga|   12|\n",
      "|  .de|   10|\n",
      "|  .il|    9|\n",
      "|  .mx|    8|\n",
      "|  .ml|    7|\n",
      "|  .za|    7|\n",
      "|  .co|    6|\n",
      "|.best|    5|\n",
      "|  .ir|    5|\n",
      "|  .au|    4|\n",
      "+-----+-----+\n",
      "only showing top 20 rows\n",
      "\n"
     ]
    }
   ],
   "source": [
    "embedded_domains.groupBy('TLD').count().sort(F.col('count').desc()).show()"
   ]
  },
  {
   "cell_type": "markdown",
   "metadata": {},
   "source": [
    "The top five TLDs for phishing domains using either of the keywords embedded in the string are \".com\", \".ms\", \".info\", \".net\", and \".blog\", sequentially. Additionally, there are multiple foreign TLDs associated with phishing domains. \n",
    "\n",
    "Lastly, we will check for the top five issuers of certificates for phishing domains in this sample."
   ]
  },
  {
   "cell_type": "code",
   "execution_count": 34,
   "metadata": {},
   "outputs": [
    {
     "name": "stdout",
     "output_type": "stream",
     "text": [
      "+-------------------------------------------------------------------------------------------------------------------------+-----+\n",
      "|authorityInfoAccess                                                                                                      |count|\n",
      "+-------------------------------------------------------------------------------------------------------------------------+-----+\n",
      "|CA Issuers - URI:http://cert.int-x3.letsencrypt.org/\n",
      "OCSP - URI:http://ocsp.int-x3.letsencrypt.org\n",
      "                      |557  |\n",
      "|OCSP - URI:http://ocsp.comodoca.com\n",
      "CA Issuers - URI:http://crt.comodoca.com/cPanelIncCertificationAuthority.crt\n",
      "        |141  |\n",
      "|OCSP - URI:http://ocsp.msocsp.com\n",
      "CA Issuers - URI:http://www.microsoft.com/pki/mscorp/Microsoft%20IT%20TLS%20CA%201.crt\n",
      "|45   |\n",
      "|OCSP - URI:http://ocsp.msocsp.com\n",
      "CA Issuers - URI:http://www.microsoft.com/pki/mscorp/Microsoft%20IT%20TLS%20CA%202.crt\n",
      "|43   |\n",
      "|OCSP - URI:http://ocsp.msocsp.com\n",
      "CA Issuers - URI:http://www.microsoft.com/pki/mscorp/Microsoft%20IT%20TLS%20CA%204.crt\n",
      "|35   |\n",
      "+-------------------------------------------------------------------------------------------------------------------------+-----+\n",
      "only showing top 5 rows\n",
      "\n"
     ]
    }
   ],
   "source": [
    "embedded_domains.groupBy('authorityInfoAccess').count().sort(F.col('count').desc()).show(5,False)"
   ]
  },
  {
   "cell_type": "markdown",
   "metadata": {},
   "source": [
    "In this sample, the top issuer of certificates for phishing domains using any of the embedded keywords is letsencrypt.org, with a count of 557. This issuer is followed by comodoca.com and Microsoft."
   ]
  },
  {
   "cell_type": "markdown",
   "metadata": {},
   "source": [
    "## Conclusion"
   ]
  },
  {
   "cell_type": "markdown",
   "metadata": {},
   "source": [
    "In this project, we successfully processed a large sample of CT data and identified duplicate certificates based on the leaf certificate fingerprint. Additionally, we identified some phishing domains that were using the keywords of frequently exploited sites (google and paypal) embedded in their domains. From this, we derived the top TLDs and certificate issuers associated with the phishing domains in this sample."
   ]
  }
 ],
 "metadata": {
  "kernelspec": {
   "display_name": "Python 3",
   "language": "python",
   "name": "python3"
  },
  "language_info": {
   "codemirror_mode": {
    "name": "ipython",
    "version": 3
   },
   "file_extension": ".py",
   "mimetype": "text/x-python",
   "name": "python",
   "nbconvert_exporter": "python",
   "pygments_lexer": "ipython3",
   "version": "3.8.3"
  }
 },
 "nbformat": 4,
 "nbformat_minor": 4
}
